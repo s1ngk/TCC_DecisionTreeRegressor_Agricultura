{
 "cells": [
  {
   "cell_type": "code",
   "execution_count": 3,
   "id": "97b3af1a-c817-4195-9baa-32eb4db4ac2c",
   "metadata": {},
   "outputs": [
    {
     "name": "stdout",
     "output_type": "stream",
     "text": [
      "Total de registros antes da amostragem: 1000000\n",
      "Classes únicas em 'Crop':\n",
      "Crop\n",
      "Maize      166824\n",
      "Rice       166792\n",
      "Barley     166777\n",
      "Wheat      166673\n",
      "Cotton     166585\n",
      "Soybean    166349\n",
      "Name: count, dtype: int64\n",
      "Total de registros após a amostragem: 996\n",
      "\n",
      "Distribuição da variável 'Crop' na amostra:\n",
      "Crop\n",
      "Barley     0.166667\n",
      "Cotton     0.166667\n",
      "Maize      0.166667\n",
      "Rice       0.166667\n",
      "Soybean    0.166667\n",
      "Wheat      0.166667\n",
      "Name: proportion, dtype: float64\n"
     ]
    },
    {
     "name": "stderr",
     "output_type": "stream",
     "text": [
      "C:\\Users\\Lucas\\AppData\\Local\\Temp\\ipykernel_21484\\2082622940.py:19: DeprecationWarning: DataFrameGroupBy.apply operated on the grouping columns. This behavior is deprecated, and in a future version of pandas the grouping columns will be excluded from the operation. Either pass `include_groups=False` to exclude the groupings or explicitly select the grouping columns after groupby to silence this warning.\n",
      "  df_sampled = df.groupby('Crop').apply(lambda x: x.sample(n=min(len(x), sample_size // len(df['Crop'].unique())), random_state=42)).reset_index(drop=True)\n"
     ]
    }
   ],
   "source": [
    "import pandas as pd\n",
    "from sklearn.model_selection import train_test_split\n",
    "\n",
    "# Carregar o dataset\n",
    "df = pd.read_csv('crop_yield.csv')  # Insira o caminho do seu arquivo .csv\n",
    "\n",
    "# Verificar a quantidade total de registros antes da amostragem\n",
    "total_records = len(df)\n",
    "print(f'Total de registros antes da amostragem: {total_records}')\n",
    "\n",
    "# Definir o tamanho desejado para a amostra (100.000 registros)\n",
    "sample_size = 100000\n",
    "\n",
    "# Verificar quantas classes únicas existem na coluna 'Crop'\n",
    "print(\"Classes únicas em 'Crop':\")\n",
    "print(df['Crop'].value_counts())\n",
    "\n",
    "# Realizar a amostragem estratificada com base na coluna 'Crop'\n",
    "df_sampled = df.groupby('Crop').apply(lambda x: x.sample(n=min(len(x), sample_size // len(df['Crop'].unique())), random_state=42)).reset_index(drop=True)\n",
    "\n",
    "# Verificar a quantidade total de registros após a amostragem\n",
    "sampled_records = len(df_sampled)\n",
    "print(f'Total de registros após a amostragem: {sampled_records}')\n",
    "\n",
    "# Verificar a distribuição das classes na amostra\n",
    "print(\"\\nDistribuição da variável 'Crop' na amostra:\")\n",
    "print(df_sampled['Crop'].value_counts(normalize=True))\n",
    "\n",
    "# (Opcional) Salvar o DataFrame amostrado em um arquivo CSV\n",
    "df_sampled.to_csv('crop_yield_sampled.csv', index=False)\n"
   ]
  },
  {
   "cell_type": "code",
   "execution_count": null,
   "id": "bee0a0bb-e84f-49c4-9b41-59b9efeeaa0a",
   "metadata": {},
   "outputs": [],
   "source": []
  }
 ],
 "metadata": {
  "kernelspec": {
   "display_name": "Python 3 (ipykernel)",
   "language": "python",
   "name": "python3"
  },
  "language_info": {
   "codemirror_mode": {
    "name": "ipython",
    "version": 3
   },
   "file_extension": ".py",
   "mimetype": "text/x-python",
   "name": "python",
   "nbconvert_exporter": "python",
   "pygments_lexer": "ipython3",
   "version": "3.12.2"
  }
 },
 "nbformat": 4,
 "nbformat_minor": 5
}
